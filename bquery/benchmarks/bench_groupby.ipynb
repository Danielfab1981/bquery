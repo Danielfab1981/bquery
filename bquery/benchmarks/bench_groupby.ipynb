{
 "cells": [
  {
   "cell_type": "markdown",
   "metadata": {},
   "source": [
    "# Bquery - groupby on-disk\n",
    "\n",
    "In this notebook we will compare the performance several groupby solutions over out-of-core (disk-based) bcolz files against Python's golden standard: the fast, in-memory Pandas framework.\n",
    "\n",
    "Our goal is to show how with bcolz you can approach (and in some cases even exceed) the Pandas in-memory performance while working with solutions that only have the intermediate and/or end result in-memory.\n",
    "\n",
    "We will have two test cases: \n",
    "1) a query with a single groupby column and a single aggregated (sum) column\n",
    "2) a query with five groupby columns and three aggregated (sum) columns\n",
    "\n",
    "This is a simple example with 1 million rows, but you can experiment with other sizes to see how they affect the outcome.\n",
    "\n",
    "This performance comparison was run on a 16gb ram, 8 core, SSD-based DigitalOcean server on Ubuntu 14.04. System caching might influence the results, but in our experience this very much resembles our real-life experience. We encourage anyone to have their own test and share them with us.\n",
    "\n",
    "For the impatient, you can scroll to the end to see a graphical presentation of the performance results.\n",
    "\n",
    "The bquery framework provides methods to perform query and aggregation operations on bcolz containers, as well as accelerate these operations by pre-processing possible groupby columns.\n",
    "\n",
    "Bcolz is a light weight package that provides columnar, chunked data containers that can be compressed either in-memory and on-disk. that are compressed by default not only for reducing memory/disk storage, but also to improve I/O speed. It excels at storing and sequentially accessing large, numerical data sets.  \n",
    "\n",
    "The code you'll find below was inspired on the following nicely written notebooks:  \n",
    "Blaze - http://nbviewer.ipython.org/url/blaze.pydata.org/notebooks/timings-bcolz.ipynb  \n",
    "Bcolz - http://nbviewer.ipython.org/github/Blosc/movielens-bench/blob/master/querying-ep14.ipynb"
   ]
  },
  {
   "cell_type": "code",
   "execution_count": 1,
   "metadata": {
    "collapsed": false
   },
   "outputs": [],
   "source": [
    "%matplotlib inline"
   ]
  },
  {
   "cell_type": "code",
   "execution_count": 2,
   "metadata": {
    "collapsed": false
   },
   "outputs": [],
   "source": [
    "import matplotlib.pyplot as plt\n",
    "import numpy as np\n",
    "import itertools as itt\n",
    "import time\n",
    "import shutil\n",
    "import os\n",
    "import contextlib\n",
    "import pandas as pd\n",
    "import blaze as blz\n",
    "import bquery\n",
    "import cytoolz\n",
    "from cytoolz.curried import pluck as cytoolz_pluck\n",
    "from collections import OrderedDict\n",
    "import copy\n",
    "from prettyprint import pp"
   ]
  },
  {
   "cell_type": "code",
   "execution_count": 3,
   "metadata": {
    "collapsed": false
   },
   "outputs": [],
   "source": [
    "elapsed_times = OrderedDict()\n",
    "\n",
    "@contextlib.contextmanager\n",
    "def ctime(message=None):\n",
    "    \"Counts the time spent in some context\"\n",
    "    assert message is not None\n",
    "    global elapsed_times\n",
    "    t_elapsed = 0.0\n",
    "    print('\\n')\n",
    "    t = time.time()\n",
    "    yield\n",
    "    if message:\n",
    "        print message + \":  \", \n",
    "    t_elapsed = time.time() - t\n",
    "    print round(t_elapsed, 4), \"sec\"\n",
    "    elapsed_times[message] = t_elapsed\n",
    "\n",
    "\n",
    "ga = itt.cycle(['ES', 'NL'])\n",
    "gb = itt.cycle(['b1', 'b2', 'b3', 'b4', 'b5'])\n",
    "gx = itt.cycle([1, 2])\n",
    "gy = itt.cycle([-1, -2])\n",
    "rootdir = 'bench-data.bcolz'\n",
    "if os.path.exists(rootdir):\n",
    "    shutil.rmtree(rootdir)\n",
    "\n",
    "n_rows = 1000000\n",
    "\n",
    "# -- data\n",
    "z = np.fromiter(((a, b, x, y) for a, b, x, y in itt.izip(ga, gb, gx, gy)),\n",
    "                dtype='S2,S2,i8,i8', count=n_rows)"
   ]
  },
  {
   "cell_type": "code",
   "execution_count": 4,
   "metadata": {
    "collapsed": false
   },
   "outputs": [],
   "source": [
    "ct = bquery.ctable(z, rootdir=rootdir)\n",
    "ct.flush()"
   ]
  },
  {
   "cell_type": "markdown",
   "metadata": {},
   "source": [
    "### pandas"
   ]
  },
  {
   "cell_type": "code",
   "execution_count": 5,
   "metadata": {
    "collapsed": false
   },
   "outputs": [
    {
     "name": "stdout",
     "output_type": "stream",
     "text": [
      "Simple Test Case\n",
      "\n",
      "\n",
      "pandas:   0.107 sec\n"
     ]
    }
   ],
   "source": [
    "print('Simple Test Case')\n",
    "df = pd.DataFrame(z)\n",
    "with ctime(message='pandas'):\n",
    "    result = df.groupby(['f0'], sort=False, as_index=False)['f2'].sum()\n",
    "# print(result)"
   ]
  },
  {
   "cell_type": "markdown",
   "metadata": {},
   "source": [
    "### blaze"
   ]
  },
  {
   "cell_type": "code",
   "execution_count": 6,
   "metadata": {
    "collapsed": false
   },
   "outputs": [
    {
     "name": "stdout",
     "output_type": "stream",
     "text": [
      "Simple Test Case\n",
      "\n",
      "\n",
      "blaze (pandas + bcolz):   0.3613 sec\n"
     ]
    }
   ],
   "source": [
    "print('Simple Test Case')\n",
    "blaze_data = blz.Data(ct.rootdir)\n",
    "expr = blz.by(blaze_data.f0, sum_f2=blaze_data.f2.sum())\n",
    "with ctime(message='blaze (pandas + bcolz)'):\n",
    "    result = blz.compute(expr)\n",
    "# print result"
   ]
  },
  {
   "cell_type": "markdown",
   "metadata": {},
   "source": [
    "### bquery without caching"
   ]
  },
  {
   "cell_type": "code",
   "execution_count": 7,
   "metadata": {
    "collapsed": false
   },
   "outputs": [
    {
     "name": "stdout",
     "output_type": "stream",
     "text": [
      "Simple Test Case\n",
      "\n",
      "\n",
      "bquery + bcolz:   0.3155 sec\n"
     ]
    }
   ],
   "source": [
    "print('Simple Test Case')\n",
    "with ctime(message='bquery + bcolz'):\n",
    "    result = ct.groupby(['f0'], ['f2'])\n",
    "# print(result)"
   ]
  },
  {
   "cell_type": "markdown",
   "metadata": {},
   "source": [
    "### bquery with caching"
   ]
  },
  {
   "cell_type": "code",
   "execution_count": 8,
   "metadata": {
    "collapsed": false
   },
   "outputs": [
    {
     "name": "stdout",
     "output_type": "stream",
     "text": [
      "Simple Test Case\n",
      "\n",
      "\n",
      "bquery, create factorization cache:   0.2038 sec\n",
      "\n",
      "\n",
      "bquery + bcolz (fact. cached):   0.2247 sec\n"
     ]
    }
   ],
   "source": [
    "print('Simple Test Case')\n",
    "with ctime(message='bquery, create factorization cache'):\n",
    "    ct.cache_factor(['f0'], refresh=True)\n",
    "\n",
    "with ctime(message='bquery + bcolz (fact. cached)'):\n",
    "    result = ct.groupby(['f0'], ['f2'])\n",
    "# print(result)"
   ]
  },
  {
   "cell_type": "markdown",
   "metadata": {},
   "source": [
    "### Running Times Summary"
   ]
  },
  {
   "cell_type": "code",
   "execution_count": 9,
   "metadata": {
    "collapsed": false
   },
   "outputs": [
    {
     "name": "stdout",
     "output_type": "stream",
     "text": [
      "Simple Test Case Running Time\n",
      "{\n",
      "    \"blaze (pandas + bcolz)\": 0.36127805709838867, \n",
      "    \"bquery + bcolz\": 0.31554603576660156, \n",
      "    \"bquery + bcolz (fact. cached)\": 0.22467803955078125, \n",
      "    \"bquery, create factorization cache\": 0.20379304885864258, \n",
      "    \"pandas\": 0.10704803466796875\n",
      "}\n"
     ]
    }
   ],
   "source": [
    "print('Simple Test Case Running Time')\n",
    "elapsed_times_bak = OrderedDict({ k: v for (k,v) in sorted(elapsed_times.iteritems())})\n",
    "pp(elapsed_times_bak)"
   ]
  },
  {
   "cell_type": "code",
   "execution_count": 10,
   "metadata": {
    "collapsed": false
   },
   "outputs": [
    {
     "name": "stdout",
     "output_type": "stream",
     "text": [
      "Simple Test Case Running Time relative to Pandas\n",
      "{\n",
      "    \"blaze (pandas + bcolz)\": 0.36127805709838867, \n",
      "    \"bquery + bcolz\": 0.31554603576660156, \n",
      "    \"bquery + bcolz (fact. cached)\": 0.22467803955078125, \n",
      "    \"bquery, create factorization cache\": 0.20379304885864258, \n",
      "    \"pandas\": 0.10704803466796875\n",
      "}\n",
      "\n",
      "Normalized running time\n",
      "{\n",
      "    \"blaze (pandas + bcolz)\": 3.3749153659753404, \n",
      "    \"bquery + bcolz\": 2.9477050816050174, \n",
      "    \"bquery + bcolz (fact. cached)\": 2.098852540802509, \n",
      "    \"bquery, create factorization cache\": 1.9037532962725394, \n",
      "    \"pandas\": 1.0\n",
      "}\n"
     ]
    }
   ],
   "source": [
    "print('Simple Test Case Running Time relative to Pandas')\n",
    "elapsed_times_bak = OrderedDict({ k: v for (k,v) in sorted(elapsed_times.iteritems())})\n",
    "pp(elapsed_times_bak)\n",
    "elapsed_times = elapsed_times_bak\n",
    "elapsed_times_norm = OrderedDict({ k: v/elapsed_times['pandas'] for (k,v) in sorted(elapsed_times.iteritems())})\n",
    "print '\\nNormalized running time'\n",
    "pp(elapsed_times_norm)"
   ]
  },
  {
   "cell_type": "markdown",
   "metadata": {},
   "source": [
    "### Graphic Summary"
   ]
  },
  {
   "cell_type": "code",
   "execution_count": 11,
   "metadata": {
    "collapsed": false
   },
   "outputs": [
    {
     "name": "stdout",
     "output_type": "stream",
     "text": [
      "['pandas', 'bquery + bcolz (fact. cached)', 'blaze (pandas + bcolz)', 'bquery + bcolz']\n"
     ]
    },
    {
     "data": {
      "text/plain": [
       "<matplotlib.text.Text at 0x7f254731a750>"
      ]
     },
     "execution_count": 11,
     "metadata": {},
     "output_type": "execute_result"
    },
    {
     "data": {
      "image/png": "[encoded data removed]",
      "text/plain": [
       "<matplotlib.figure.Figure at 0x7f257c75c410>"
      ]
     },
     "metadata": {},
     "output_type": "display_data"
    }
   ],
   "source": [
    "if 'bquery, create factorization cache' in elapsed_times_norm:\n",
    "    base_bquery = elapsed_times_norm.pop('bquery, create factorization cache')\n",
    "labels = []\n",
    "val = []\n",
    "for k,v in sorted(elapsed_times_norm.iteritems(), reverse=True):\n",
    "    labels.append(k)\n",
    "    val.append(v)\n",
    "\n",
    "pos = np.arange(len(elapsed_times_norm))+.5    # the bar centers on the y axis\n",
    "\n",
    "print elapsed_times_norm.keys()\n",
    "plt.figure(1, figsize=[15,5])\n",
    "plt.grid(True)\n",
    "plt.barh(pos,val, align='center')\n",
    "plt.barh(pos,[0, base_bquery, 0,0], \n",
    "         left=[0, elapsed_times_norm['bquery + bcolz (fact. cached)'], 0, 0],\n",
    "         align='center', color = '#FFFFCC')\n",
    "plt.yticks(pos, labels, fontsize=15)\n",
    "plt.xlabel('X times slower', fontsize=15)\n",
    "plt.title('Performance compared to pandas', fontsize=25)"
   ]
  },
  {
   "cell_type": "markdown",
   "metadata": {},
   "source": [
    "The Light yellow shows the one-time factorization caching (which after the first run can be left out of future queries).  \n",
    "NB: when data changes, this caching has to be refreshed but it is very useful in most reporting & analytics cases."
   ]
  },
  {
   "cell_type": "markdown",
   "metadata": {},
   "source": [
    "## Complex scenario"
   ]
  },
  {
   "cell_type": "code",
   "execution_count": 12,
   "metadata": {
    "collapsed": false
   },
   "outputs": [
    {
     "name": "stdout",
     "output_type": "stream",
     "text": [
      "('Rows: ', 1000000)\n",
      "\n",
      "\n",
      "pandas:   0.4099 sec\n",
      "\n",
      "\n",
      "bquery + bcolz:   1.5813 sec\n",
      "\n",
      "\n",
      "bquery, create factorization cache:   0.4577 sec\n",
      "\n",
      "\n",
      "bquery over bcolz (factorization cached):   1.0691 sec\n"
     ]
    }
   ],
   "source": [
    "elapsed_times = OrderedDict()\n",
    "\n",
    "ga = itt.cycle(['ES', 'NL'])\n",
    "gb = itt.cycle(['b1', 'b2', 'b3', 'b4'])\n",
    "gc = itt.cycle([1, 2])\n",
    "gd = itt.cycle([3, 4, 4, 3])\n",
    "ge = itt.cycle(['c','d','e'])\n",
    "gx = itt.cycle([1, 2])\n",
    "gy = itt.cycle([-1, -2])\n",
    "gz = itt.cycle([1.11, 2.22, 3.33, 4.44, 5.55])\n",
    "\n",
    "rootdir = 'bench-data.bcolz'\n",
    "if os.path.exists(rootdir):\n",
    "    shutil.rmtree(rootdir)\n",
    "\n",
    "n_rows = 1000000\n",
    "print('Rows: ', n_rows)\n",
    "    \n",
    "z = np.fromiter(((a, b, c, d, e, x, y, z) for a, b, c, d, e, x, y, z\n",
    "                 in itt.izip(ga, gb, gc, gd, ge, gx, gy, gz)),\n",
    "                dtype='S2,S2,i4,i8,S1,i4,i8,f8', count=n_rows)\n",
    "ct = bquery.ctable(z, rootdir=rootdir, )\n",
    "\n",
    "# -- pandas --\n",
    "df = pd.DataFrame(z)\n",
    "with ctime(message='pandas'):\n",
    "    result = df.groupby(['f0','f1','f2','f3','f4'], sort=False, as_index=False)['f5','f6','f7'].sum()\n",
    "# print(result)\n",
    "\n",
    "# -- bquery --\n",
    "with ctime(message='bquery + bcolz'):\n",
    "    result = ct.groupby(['f0','f1','f2','f3','f4'], ['f5','f6','f7'])\n",
    "# print(result)\n",
    "\n",
    "with ctime(message='bquery, create factorization cache'):\n",
    "    ct.cache_factor(['f0','f1','f2','f3','f4'], refresh=True)\n",
    "    \n",
    "with ctime(message='bquery over bcolz (factorization cached)'):\n",
    "    result = ct.groupby(['f0','f1','f2','f3','f4'], ['f5','f6','f7'])\n",
    "# print(result)"
   ]
  },
  {
   "cell_type": "code",
   "execution_count": 13,
   "metadata": {
    "collapsed": false
   },
   "outputs": [
    {
     "name": "stdout",
     "output_type": "stream",
     "text": [
      "Complex Test Case Running Time relative to Pandas\n",
      "{\n",
      "    \"bquery + bcolz\": 1.5812609195709229, \n",
      "    \"bquery over bcolz (factorization cached)\": 1.0690908432006836, \n",
      "    \"bquery, create factorization cache\": 0.45772814750671387, \n",
      "    \"pandas\": 0.4098629951477051\n",
      "}\n",
      "\n",
      "Normalized running time\n",
      "{\n",
      "    \"bquery + bcolz\": 3.8580231401497302, \n",
      "    \"bquery over bcolz (factorization cached)\": 2.608410263569679, \n",
      "    \"bquery, create factorization cache\": 1.1167832981402952, \n",
      "    \"pandas\": 1.0\n",
      "}\n"
     ]
    }
   ],
   "source": [
    "print('Complex Test Case Running Time relative to Pandas')\n",
    "elapsed_times_bak = OrderedDict({ k: v for (k,v) in sorted(elapsed_times.iteritems())})\n",
    "pp(elapsed_times_bak)\n",
    "elapsed_times = elapsed_times_bak\n",
    "elapsed_times_norm = OrderedDict({ k: v/elapsed_times['pandas'] for (k,v) in sorted(elapsed_times.iteritems())})\n",
    "print '\\nNormalized running time'\n",
    "pp(elapsed_times_norm)"
   ]
  },
  {
   "cell_type": "code",
   "execution_count": 14,
   "metadata": {
    "collapsed": false
   },
   "outputs": [
    {
     "name": "stdout",
     "output_type": "stream",
     "text": [
      "['pandas', 'bquery over bcolz (factorization cached)', 'bquery + bcolz']\n"
     ]
    },
    {
     "data": {
      "text/plain": [
       "<matplotlib.text.Text at 0x7f2544466d90>"
      ]
     },
     "execution_count": 14,
     "metadata": {},
     "output_type": "execute_result"
    },
    {
     "data": {
      "image/png": "[encoded data removed]",
      "text/plain": [
       "<matplotlib.figure.Figure at 0x7f254c23bc10>"
      ]
     },
     "metadata": {},
     "output_type": "display_data"
    }
   ],
   "source": [
    "if 'bquery, create factorization cache' in elapsed_times_norm:\n",
    "    base_bquery = elapsed_times_norm.pop('bquery, create factorization cache')\n",
    "labels = []\n",
    "val = []\n",
    "for k,v in sorted(elapsed_times_norm.iteritems(), reverse=True):\n",
    "    labels.append(k)\n",
    "    val.append(v)\n",
    "\n",
    "pos = np.arange(len(elapsed_times_norm))+.5    # the bar centers on the y axis\n",
    "\n",
    "print elapsed_times_norm.keys()\n",
    "plt.figure(1, figsize=[15,5])\n",
    "plt.grid(True)\n",
    "plt.barh(pos,val, align='center')\n",
    "plt.barh(pos,[0, base_bquery, 0], \n",
    "         left=[0, elapsed_times_norm['bquery over bcolz (factorization cached)'], 0],\n",
    "         align='center', color = '#FFFFCC')\n",
    "plt.yticks(pos, labels, fontsize=15)\n",
    "plt.xlabel('X times slower', fontsize=15)\n",
    "plt.title('Performance compared to pandas', fontsize=25)"
   ]
  },
  {
   "cell_type": "markdown",
   "metadata": {},
   "source": [
    "## Conclusion\n",
    "Currently -in our experience- the real-life performance of sum aggregations using on-disk bcolz queries depending on machine are normally between 2.0 and 3.0 times slower than similar in-memory Pandas aggregations.\n",
    "\n",
    "There are many scenarios where you would like to perform a number of groupby operations over a number of large files, creating issues with memory management and hot set selection. However, through bcolz and bquery you can have an out-of-core solution that is near in-memory in terms of size while creating the possibility to handle very large data sets with limited hardware.\n",
    "\n",
    "It is important to notice that while the end result is a bcolz ctable (which can be out-of-core) and the input can be any out-of-core ctable, the intermediate result will be an in-memory numpy array. This is because most groupby operations on non-sorted tables require random memory access while bcolz is limited to sequential access for optimum performance. However, this memory footprint is limited to the groupby result length and can be further optimized in the future to a per-column usage.  \n"
   ]
  },
  {
   "cell_type": "code",
   "execution_count": 14,
   "metadata": {
    "collapsed": false
   },
   "outputs": [],
   "source": []
  }
 ],
 "metadata": {
  "kernelspec": {
   "display_name": "Python 2",
   "language": "python",
   "name": "python2"
  },
  "language_info": {
   "codemirror_mode": {
    "name": "ipython",
    "version": 2
   },
   "file_extension": ".py",
   "mimetype": "text/x-python",
   "name": "python",
   "nbconvert_exporter": "python",
   "pygments_lexer": "ipython2",
   "version": "2.7.11+"
  }
 },
 "nbformat": 4,
 "nbformat_minor": 0
}
