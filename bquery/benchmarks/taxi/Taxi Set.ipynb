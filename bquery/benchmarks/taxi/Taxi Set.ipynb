{
 "cells": [
  {
   "cell_type": "markdown",
   "metadata": {},
   "source": [
    "# Bquery/Bcolz Taxi Set Performance"
   ]
  },
  {
   "cell_type": "markdown",
   "metadata": {},
   "source": [
    "Based on the great work by Matthew Rocklin, see http://matthewrocklin.com/blog/work/2016/02/22/dask-distributed-part-2\n",
    "\n",
    "NB: The auto-caching features will make the second (and subsequent) runs faster for multi-column groupings, which is reflected in the scores below."
   ]
  },
  {
   "cell_type": "code",
   "execution_count": 1,
   "metadata": {
    "collapsed": false,
    "jupyter": {
     "outputs_hidden": false
    }
   },
   "outputs": [],
   "source": [
    "import os\n",
    "import urllib\n",
    "import glob\n",
    "import pandas as pd\n",
    "from bquery import ctable\n",
    "import bquery\n",
    "import bcolz\n",
    "from multiprocessing import Pool, cpu_count\n",
    "from collections import OrderedDict\n",
    "import contextlib\n",
    "import time\n",
    "import load\n",
    "from pathlib import Path\n",
    "import dask.dataframe as dd\n",
    "\n",
    "# do not forget to install numexpr\n",
    "# os.environ[\"BLOSC_NOLOCK\"] = \"1\"\n",
    "bcolz.set_nthreads(1)\n",
    "workdir = os.path.join(Path.home(), \"Documents/taxi\")"
   ]
  },
  {
   "cell_type": "code",
   "execution_count": 2,
   "metadata": {},
   "outputs": [
    {
     "name": "stdout",
     "output_type": "stream",
     "text": [
      "url: https://s3.amazonaws.com/nyc-tlc/trip+data/yellow_tripdata_2015-01.csv\n",
      "output file: /home/ylebon/Documents/taxi/yellow_tripdata_2015-01.csv\n",
      "url: https://s3.amazonaws.com/nyc-tlc/trip+data/yellow_tripdata_2015-02.csv\n",
      "output file: /home/ylebon/Documents/taxi/yellow_tripdata_2015-02.csv\n"
     ]
    }
   ],
   "source": [
    "# create dir\n",
    "if not os.path.exists(workdir):\n",
    "    os.makedirs(workdir)\n",
    "csv_files = load.download_data(workdir, year_list=[2015], month_list=[1, 2])"
   ]
  },
  {
   "cell_type": "code",
   "execution_count": 3,
   "metadata": {},
   "outputs": [],
   "source": [
    "elapsed_times = OrderedDict()\n",
    "\n",
    "@contextlib.contextmanager\n",
    "def ctime(message=None):\n",
    "    \"Counts the time spent in some context\"\n",
    "    assert message is not None\n",
    "    global elapsed_times\n",
    "    t_elapsed = 0.0\n",
    "    print('\\n')\n",
    "    t = time.time()\n",
    "    yield\n",
    "    if message:\n",
    "        print (message + \":  \") \n",
    "    t_elapsed = time.time() - t\n",
    "    print (round(t_elapsed, 4), \"sec\")\n",
    "    elapsed_times[message] = t_elapsed"
   ]
  },
  {
   "cell_type": "code",
   "execution_count": 4,
   "metadata": {},
   "outputs": [
    {
     "name": "stdout",
     "output_type": "stream",
     "text": [
      "\n",
      "\n",
      "Generating bcolz from CSV files:  \n",
      "0.0 sec\n"
     ]
    }
   ],
   "source": [
    "# create bcolz\n",
    "with ctime(message='Generating bcolz from CSV files'):\n",
    "    create_bcolz=False\n",
    "    if create_bcolz:\n",
    "        load.create_bcolz(workdir)\n",
    "    bcolz_workdir = os.path.join(workdir, 'bcolz')"
   ]
  },
  {
   "cell_type": "code",
   "execution_count": 5,
   "metadata": {},
   "outputs": [
    {
     "name": "stdout",
     "output_type": "stream",
     "text": [
      "\n",
      "\n",
      "Generating bcolz chunks from CSV files:  \n",
      "0.0 sec\n"
     ]
    },
    {
     "data": {
      "text/plain": [
       "['/home/ylebon/Documents/taxi/bcolz_chunks/taxi_0',\n",
       " '/home/ylebon/Documents/taxi/bcolz_chunks/taxi_1']"
      ]
     },
     "execution_count": 5,
     "metadata": {},
     "output_type": "execute_result"
    }
   ],
   "source": [
    "# create bcolz chunks\n",
    "with ctime(message='Generating bcolz chunks from CSV files'):\n",
    "    create_bcolz_chunks=False\n",
    "    if create_bcolz_chunks:\n",
    "        load.create_bcolz_chunks(workdir)\n",
    "bcolz_chunks_workdir = os.path.join(workdir, 'bcolz_chunks')\n",
    "ct_list = glob.glob(\"{0}/*\".format(bcolz_chunks_workdir))\n",
    "ct_list"
   ]
  },
  {
   "cell_type": "code",
   "execution_count": 6,
   "metadata": {},
   "outputs": [
    {
     "name": "stdout",
     "output_type": "stream",
     "text": [
      "\n",
      "\n",
      "csv search pattern: /home/ylebon/Documents/taxi/yellow_tripdata_*.csv\n",
      "loading: /home/ylebon/Documents/taxi/yellow_tripdata_2015-01.csv\n",
      "loading: /home/ylebon/Documents/taxi/yellow_tripdata_2015-02.csv\n",
      "Generating parquet partitions from CSV files:  \n",
      "318.3448 sec\n"
     ]
    }
   ],
   "source": [
    "# create parquet\n",
    "with ctime(message='Generating parquet partitions from CSV files'):\n",
    "    create_parquet=True\n",
    "    if create_parquet:\n",
    "        outputdir_list = load.create_parquet(workdir)\n"
   ]
  },
  {
   "cell_type": "code",
   "execution_count": 7,
   "metadata": {},
   "outputs": [],
   "source": [
    "def sub_query(input_args):\n",
    "    rootdir = input_args['rootdir']\n",
    "    group_cols = input_args['group_cols']\n",
    "    measure_cols = input_args['measure_cols']\n",
    "    ct = ctable(rootdir=rootdir, mode='a')\n",
    "    result = ct.groupby(group_cols, measure_cols)\n",
    "    result_df = result.todataframe()\n",
    "    return result_df.to_msgpack()\n",
    "\n",
    "\n",
    "def execute_query(ct_list, group_cols, measure_cols):\n",
    "    p = Pool(cpu_count())\n",
    "    query_list = [{\n",
    "            'rootdir': rootdir, \n",
    "            'group_cols': group_cols,\n",
    "            'measure_cols': measure_cols} for rootdir in ct_list]\n",
    "    result_list = p.map(sub_query, query_list)\n",
    "    p.close()\n",
    "    result_list = [pd.read_msgpack(x) for x in result_list]\n",
    "    result_df = pd.concat(result_list, ignore_index=True)\n",
    "    result_df = result_df.groupby(group_cols)[measure_cols].sum()\n",
    "    return result_df\n"
   ]
  },
  {
   "cell_type": "code",
   "execution_count": 8,
   "metadata": {
    "collapsed": false,
    "jupyter": {
     "outputs_hidden": false
    }
   },
   "outputs": [],
   "source": [
    "ct = ctable(rootdir=bcolz_workdir, mode='a')\n",
    "measure_list = ['extra',\n",
    "                'fare_amount',\n",
    "                'improvement_surcharge',\n",
    "                'mta_tax',\n",
    "                'nr_rides',\n",
    "                'passenger_count',\n",
    "                'tip_amount',\n",
    "                'tolls_amount',\n",
    "                'total_amount',\n",
    "                'trip_distance']"
   ]
  },
  {
   "cell_type": "markdown",
   "metadata": {},
   "source": [
    "## BQUERY: Single Process"
   ]
  },
  {
   "cell_type": "code",
   "execution_count": 13,
   "metadata": {
    "collapsed": false,
    "jupyter": {
     "outputs_hidden": false
    }
   },
   "outputs": [
    {
     "name": "stdout",
     "output_type": "stream",
     "text": [
      "\n",
      "\n",
      "result:\n",
      "[(1, 15866142) (2, 9230837) (3, 77953) (4, 24568) (5, 7)]\n",
      "CT payment_type nr_rides sum, single process:  \n",
      "2.0781 sec\n",
      "\n",
      "\n",
      "result:\n",
      "[(201501, 12748986) (201502, 12450521)]\n",
      "CT yearmonth nr_rides sum, single process:  \n",
      "1.9324 sec\n",
      "\n",
      "\n",
      "result:\n",
      "[(201501, 12748986) (201502, 12450521)]\n",
      "CT yearmonth + payment_type nr_rides sum, single process:  \n",
      "3.6863 sec\n"
     ]
    }
   ],
   "source": [
    "with ctime(message='CT payment_type nr_rides sum, single process'):\n",
    "    r = ct.groupby(['payment_type'], ['nr_rides'])\n",
    "    print(\"result:\")\n",
    "    print(r)\n",
    "    \n",
    "with ctime(message='CT yearmonth nr_rides sum, single process'):\n",
    "    r = ct.groupby(['pickup_yearmonth'], ['nr_rides'])\n",
    "    print(\"result:\")\n",
    "    print(r)\n",
    "\n",
    "with ctime(message='CT yearmonth + payment_type nr_rides sum, single process'):\n",
    "    ct.groupby(['pickup_yearmonth', 'payment_type'], ['nr_rides'])\n",
    "    print(\"result:\")\n",
    "    print(r)"
   ]
  },
  {
   "cell_type": "markdown",
   "metadata": {},
   "source": [
    "## DASK: Single Process"
   ]
  },
  {
   "cell_type": "code",
   "execution_count": 15,
   "metadata": {},
   "outputs": [
    {
     "name": "stdout",
     "output_type": "stream",
     "text": [
      "\n",
      "\n",
      "result:\n",
      "payment_type\n",
      "1    15866142\n",
      "2     9230837\n",
      "3       77953\n",
      "4       24568\n",
      "5           7\n",
      "Name: nr_rides, dtype: int64\n",
      "CT payment_type nr_rides sum, single process:  \n",
      "5.579 sec\n",
      "\n",
      "\n",
      "result:\n",
      "pickup_yearmonth\n",
      "201501    12748986\n",
      "201502    12450521\n",
      "Name: nr_rides, dtype: int64\n",
      "CT yearmonth nr_rides sum, single process:  \n",
      "5.4784 sec\n",
      "\n",
      "\n",
      "result:\n",
      "pickup_yearmonth  payment_type\n",
      "201501            1               7881388\n",
      "                  2               4816992\n",
      "                  3                 38632\n",
      "                  4                 11972\n",
      "                  5                     2\n",
      "201502            1               7984754\n",
      "                  2               4413845\n",
      "                  3                 39321\n",
      "                  4                 12596\n",
      "                  5                     5\n",
      "Name: nr_rides, dtype: int64\n",
      "CT yearmonth + payment_type nr_rides sum, single process:  \n",
      "5.861 sec\n"
     ]
    }
   ],
   "source": [
    "#parquet_files = glob.glob(\"{0}/parquet\".format(workdir), recursive=True)\n",
    "ddf = dd.concat([dd.read_parquet(x, engine='fastparquet') for x in outputdir_list])\n",
    "\n",
    "with ctime(message='CT payment_type nr_rides sum, single process'):\n",
    "    r = ddf.groupby('payment_type')['nr_rides'].sum().compute()\n",
    "    print(\"result:\")\n",
    "    print(r)\n",
    "    \n",
    "with ctime(message='CT yearmonth nr_rides sum, single process'):\n",
    "    r = ddf.groupby('pickup_yearmonth')['nr_rides'].sum().compute()\n",
    "    print(\"result:\")\n",
    "    print(r)\n",
    "\n",
    "with ctime(message='CT yearmonth + payment_type nr_rides sum, single process'):\n",
    "    r = ddf.groupby(['pickup_yearmonth', 'payment_type'])['nr_rides'].sum().compute()\n",
    "    print(\"result:\")\n",
    "    print(r)"
   ]
  },
  {
   "cell_type": "markdown",
   "metadata": {},
   "source": [
    "## BQUERY: Multi Process"
   ]
  },
  {
   "cell_type": "code",
   "execution_count": 11,
   "metadata": {
    "collapsed": false,
    "jupyter": {
     "outputs_hidden": false
    }
   },
   "outputs": [
    {
     "name": "stdout",
     "output_type": "stream",
     "text": [
      "\n",
      "\n"
     ]
    },
    {
     "ename": "AttributeError",
     "evalue": "type object 'DataFrame' has no attribute 'from_items'",
     "output_type": "error",
     "traceback": [
      "\u001b[0;31m---------------------------------------------------------------------------\u001b[0m",
      "\u001b[0;31mRemoteTraceback\u001b[0m                           Traceback (most recent call last)",
      "\u001b[0;31mRemoteTraceback\u001b[0m: \n\"\"\"\nTraceback (most recent call last):\n  File \"/usr/lib/python3.6/multiprocessing/pool.py\", line 119, in worker\n    result = (True, func(*args, **kwds))\n  File \"/usr/lib/python3.6/multiprocessing/pool.py\", line 44, in mapstar\n    return list(map(*args))\n  File \"<ipython-input-7-4227db5fd048>\", line 7, in sub_query\n    result_df = result.todataframe()\n  File \"/home/ylebon/Workspace/visualfabriq/bquery/env3.6/lib/python3.6/site-packages/bcolz/ctable.py\", line 806, in todataframe\n    df = pd.DataFrame.from_items(\nAttributeError: type object 'DataFrame' has no attribute 'from_items'\n\"\"\"",
      "\nThe above exception was the direct cause of the following exception:\n",
      "\u001b[0;31mAttributeError\u001b[0m                            Traceback (most recent call last)",
      "\u001b[0;32m<ipython-input-11-c8227e6c4dd7>\u001b[0m in \u001b[0;36m<module>\u001b[0;34m\u001b[0m\n\u001b[1;32m      1\u001b[0m \u001b[0;32mwith\u001b[0m \u001b[0mctime\u001b[0m\u001b[0;34m(\u001b[0m\u001b[0mmessage\u001b[0m\u001b[0;34m=\u001b[0m\u001b[0;34m'CT payment_type nr_rides sum, '\u001b[0m \u001b[0;34m+\u001b[0m \u001b[0mstr\u001b[0m\u001b[0;34m(\u001b[0m\u001b[0mcpu_count\u001b[0m\u001b[0;34m(\u001b[0m\u001b[0;34m)\u001b[0m\u001b[0;34m)\u001b[0m \u001b[0;34m+\u001b[0m \u001b[0;34m' processors'\u001b[0m\u001b[0;34m)\u001b[0m\u001b[0;34m:\u001b[0m\u001b[0;34m\u001b[0m\u001b[0;34m\u001b[0m\u001b[0m\n\u001b[0;32m----> 2\u001b[0;31m     \u001b[0mexecute_query\u001b[0m\u001b[0;34m(\u001b[0m\u001b[0mct_list\u001b[0m\u001b[0;34m,\u001b[0m \u001b[0;34m[\u001b[0m\u001b[0;34m'payment_type'\u001b[0m\u001b[0;34m]\u001b[0m\u001b[0;34m,\u001b[0m \u001b[0;34m[\u001b[0m\u001b[0;34m'nr_rides'\u001b[0m\u001b[0;34m]\u001b[0m\u001b[0;34m)\u001b[0m\u001b[0;34m\u001b[0m\u001b[0;34m\u001b[0m\u001b[0m\n\u001b[0m\u001b[1;32m      3\u001b[0m \u001b[0;34m\u001b[0m\u001b[0m\n\u001b[1;32m      4\u001b[0m \u001b[0;32mwith\u001b[0m \u001b[0mctime\u001b[0m\u001b[0;34m(\u001b[0m\u001b[0mmessage\u001b[0m\u001b[0;34m=\u001b[0m\u001b[0;34m'CT yearmonth nr_rides sum, '\u001b[0m \u001b[0;34m+\u001b[0m \u001b[0mstr\u001b[0m\u001b[0;34m(\u001b[0m\u001b[0mcpu_count\u001b[0m\u001b[0;34m(\u001b[0m\u001b[0;34m)\u001b[0m\u001b[0;34m)\u001b[0m \u001b[0;34m+\u001b[0m \u001b[0;34m' processors'\u001b[0m\u001b[0;34m)\u001b[0m\u001b[0;34m:\u001b[0m\u001b[0;34m\u001b[0m\u001b[0;34m\u001b[0m\u001b[0m\n\u001b[1;32m      5\u001b[0m     \u001b[0mexecute_query\u001b[0m\u001b[0;34m(\u001b[0m\u001b[0mct_list\u001b[0m\u001b[0;34m,\u001b[0m \u001b[0;34m[\u001b[0m\u001b[0;34m'pickup_yearmonth'\u001b[0m\u001b[0;34m]\u001b[0m\u001b[0;34m,\u001b[0m \u001b[0;34m[\u001b[0m\u001b[0;34m'nr_rides'\u001b[0m\u001b[0;34m]\u001b[0m\u001b[0;34m)\u001b[0m\u001b[0;34m\u001b[0m\u001b[0;34m\u001b[0m\u001b[0m\n",
      "\u001b[0;32m<ipython-input-7-4227db5fd048>\u001b[0m in \u001b[0;36mexecute_query\u001b[0;34m(ct_list, group_cols, measure_cols)\u001b[0m\n\u001b[1;32m     15\u001b[0m             \u001b[0;34m'group_cols'\u001b[0m\u001b[0;34m:\u001b[0m \u001b[0mgroup_cols\u001b[0m\u001b[0;34m,\u001b[0m\u001b[0;34m\u001b[0m\u001b[0;34m\u001b[0m\u001b[0m\n\u001b[1;32m     16\u001b[0m             'measure_cols': measure_cols} for rootdir in ct_list]\n\u001b[0;32m---> 17\u001b[0;31m     \u001b[0mresult_list\u001b[0m \u001b[0;34m=\u001b[0m \u001b[0mp\u001b[0m\u001b[0;34m.\u001b[0m\u001b[0mmap\u001b[0m\u001b[0;34m(\u001b[0m\u001b[0msub_query\u001b[0m\u001b[0;34m,\u001b[0m \u001b[0mquery_list\u001b[0m\u001b[0;34m)\u001b[0m\u001b[0;34m\u001b[0m\u001b[0;34m\u001b[0m\u001b[0m\n\u001b[0m\u001b[1;32m     18\u001b[0m     \u001b[0mp\u001b[0m\u001b[0;34m.\u001b[0m\u001b[0mclose\u001b[0m\u001b[0;34m(\u001b[0m\u001b[0;34m)\u001b[0m\u001b[0;34m\u001b[0m\u001b[0;34m\u001b[0m\u001b[0m\n\u001b[1;32m     19\u001b[0m     \u001b[0mresult_list\u001b[0m \u001b[0;34m=\u001b[0m \u001b[0;34m[\u001b[0m\u001b[0mpd\u001b[0m\u001b[0;34m.\u001b[0m\u001b[0mread_msgpack\u001b[0m\u001b[0;34m(\u001b[0m\u001b[0mx\u001b[0m\u001b[0;34m)\u001b[0m \u001b[0;32mfor\u001b[0m \u001b[0mx\u001b[0m \u001b[0;32min\u001b[0m \u001b[0mresult_list\u001b[0m\u001b[0;34m]\u001b[0m\u001b[0;34m\u001b[0m\u001b[0;34m\u001b[0m\u001b[0m\n",
      "\u001b[0;32m/usr/lib/python3.6/multiprocessing/pool.py\u001b[0m in \u001b[0;36mmap\u001b[0;34m(self, func, iterable, chunksize)\u001b[0m\n\u001b[1;32m    264\u001b[0m         \u001b[0;32min\u001b[0m \u001b[0ma\u001b[0m \u001b[0mlist\u001b[0m \u001b[0mthat\u001b[0m \u001b[0;32mis\u001b[0m \u001b[0mreturned\u001b[0m\u001b[0;34m.\u001b[0m\u001b[0;34m\u001b[0m\u001b[0;34m\u001b[0m\u001b[0m\n\u001b[1;32m    265\u001b[0m         '''\n\u001b[0;32m--> 266\u001b[0;31m         \u001b[0;32mreturn\u001b[0m \u001b[0mself\u001b[0m\u001b[0;34m.\u001b[0m\u001b[0m_map_async\u001b[0m\u001b[0;34m(\u001b[0m\u001b[0mfunc\u001b[0m\u001b[0;34m,\u001b[0m \u001b[0miterable\u001b[0m\u001b[0;34m,\u001b[0m \u001b[0mmapstar\u001b[0m\u001b[0;34m,\u001b[0m \u001b[0mchunksize\u001b[0m\u001b[0;34m)\u001b[0m\u001b[0;34m.\u001b[0m\u001b[0mget\u001b[0m\u001b[0;34m(\u001b[0m\u001b[0;34m)\u001b[0m\u001b[0;34m\u001b[0m\u001b[0;34m\u001b[0m\u001b[0m\n\u001b[0m\u001b[1;32m    267\u001b[0m \u001b[0;34m\u001b[0m\u001b[0m\n\u001b[1;32m    268\u001b[0m     \u001b[0;32mdef\u001b[0m \u001b[0mstarmap\u001b[0m\u001b[0;34m(\u001b[0m\u001b[0mself\u001b[0m\u001b[0;34m,\u001b[0m \u001b[0mfunc\u001b[0m\u001b[0;34m,\u001b[0m \u001b[0miterable\u001b[0m\u001b[0;34m,\u001b[0m \u001b[0mchunksize\u001b[0m\u001b[0;34m=\u001b[0m\u001b[0;32mNone\u001b[0m\u001b[0;34m)\u001b[0m\u001b[0;34m:\u001b[0m\u001b[0;34m\u001b[0m\u001b[0;34m\u001b[0m\u001b[0m\n",
      "\u001b[0;32m/usr/lib/python3.6/multiprocessing/pool.py\u001b[0m in \u001b[0;36mget\u001b[0;34m(self, timeout)\u001b[0m\n\u001b[1;32m    642\u001b[0m             \u001b[0;32mreturn\u001b[0m \u001b[0mself\u001b[0m\u001b[0;34m.\u001b[0m\u001b[0m_value\u001b[0m\u001b[0;34m\u001b[0m\u001b[0;34m\u001b[0m\u001b[0m\n\u001b[1;32m    643\u001b[0m         \u001b[0;32melse\u001b[0m\u001b[0;34m:\u001b[0m\u001b[0;34m\u001b[0m\u001b[0;34m\u001b[0m\u001b[0m\n\u001b[0;32m--> 644\u001b[0;31m             \u001b[0;32mraise\u001b[0m \u001b[0mself\u001b[0m\u001b[0;34m.\u001b[0m\u001b[0m_value\u001b[0m\u001b[0;34m\u001b[0m\u001b[0;34m\u001b[0m\u001b[0m\n\u001b[0m\u001b[1;32m    645\u001b[0m \u001b[0;34m\u001b[0m\u001b[0m\n\u001b[1;32m    646\u001b[0m     \u001b[0;32mdef\u001b[0m \u001b[0m_set\u001b[0m\u001b[0;34m(\u001b[0m\u001b[0mself\u001b[0m\u001b[0;34m,\u001b[0m \u001b[0mi\u001b[0m\u001b[0;34m,\u001b[0m \u001b[0mobj\u001b[0m\u001b[0;34m)\u001b[0m\u001b[0;34m:\u001b[0m\u001b[0;34m\u001b[0m\u001b[0;34m\u001b[0m\u001b[0m\n",
      "\u001b[0;31mAttributeError\u001b[0m: type object 'DataFrame' has no attribute 'from_items'"
     ]
    }
   ],
   "source": [
    "with ctime(message='CT payment_type nr_rides sum, ' + str(cpu_count()) + ' processors'):\n",
    "    execute_query(ct_list, ['payment_type'], ['nr_rides'])\n",
    "\n",
    "with ctime(message='CT yearmonth nr_rides sum, ' + str(cpu_count()) + ' processors'):\n",
    "    execute_query(ct_list, ['pickup_yearmonth'], ['nr_rides'])\n",
    "\n",
    "with ctime(message='CT yearmonth + payment_type nr_rides sum, ' + str(cpu_count()) + ' processors'):\n",
    "    execute_query(ct_list, ['pickup_yearmonth', 'payment_type'], ['nr_rides'])"
   ]
  },
  {
   "cell_type": "markdown",
   "metadata": {},
   "source": [
    "## BQUERY: Single Process, All Measures"
   ]
  },
  {
   "cell_type": "code",
   "execution_count": null,
   "metadata": {
    "collapsed": false,
    "jupyter": {
     "outputs_hidden": false
    }
   },
   "outputs": [],
   "source": [
    "with ctime(message='CT payment_type all measure sum, single process'):\n",
    "    ct.groupby(['payment_type'], measure_list)\n",
    "\n",
    "with ctime(message='CT yearmonth all measure sum, single process'):\n",
    "    ct.groupby(['pickup_yearmonth'], measure_list)\n",
    "\n",
    "with ctime(message='CT yearmonth + payment_type all measure sum, single process'):\n",
    "    ct.groupby(['pickup_yearmonth', 'payment_type'], measure_list)"
   ]
  },
  {
   "cell_type": "markdown",
   "metadata": {},
   "source": [
    "## BQUERY: Multi Process, All Measures"
   ]
  },
  {
   "cell_type": "code",
   "execution_count": null,
   "metadata": {
    "collapsed": false,
    "jupyter": {
     "outputs_hidden": false
    }
   },
   "outputs": [],
   "source": [
    "with ctime(message='CT payment_type all measure sum, ' + str(cpu_count()) + ' processors'):\n",
    "    execute_query(ct_list, ['payment_type'], measure_list)\n",
    "\n",
    "with ctime(message='CT yearmonth  all measure sum, ' + str(cpu_count()) + ' processors'):\n",
    "    execute_query(ct_list, ['pickup_yearmonth'], measure_list)\n",
    "\n",
    "with ctime(message='CT yearmonth + payment_type  all measure sum, ' + str(cpu_count()) + ' processors'):\n",
    "    execute_query(ct_list, ['pickup_yearmonth', 'payment_type'], measure_list)"
   ]
  }
 ],
 "metadata": {
  "kernelspec": {
   "display_name": "Python 2",
   "language": "python",
   "name": "python2"
  },
  "language_info": {
   "codemirror_mode": {
    "name": "ipython",
    "version": 3
   },
   "file_extension": ".py",
   "mimetype": "text/x-python",
   "name": "python",
   "nbconvert_exporter": "python",
   "pygments_lexer": "ipython3",
   "version": "3.6.9"
  }
 },
 "nbformat": 4,
 "nbformat_minor": 4
}
