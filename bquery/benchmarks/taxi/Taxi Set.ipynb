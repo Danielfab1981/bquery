{
 "cells": [
  {
   "cell_type": "markdown",
   "metadata": {},
   "source": [
    "# Bquery/Bcolz Taxi Set Performance"
   ]
  },
  {
   "cell_type": "markdown",
   "metadata": {},
   "source": [
    "Based on the great work by Matthew Rocklin, see http://matthewrocklin.com/blog/work/2016/02/22/dask-distributed-part-2\n",
    "\n",
    "NB: The auto-caching features will make the second (and subsequent) runs faster for multi-column groupings, which is reflected in the scores below."
   ]
  },
  {
   "cell_type": "code",
   "execution_count": 1,
   "metadata": {
    "collapsed": false,
    "jupyter": {
     "outputs_hidden": false
    }
   },
   "outputs": [],
   "source": [
    "import os\n",
    "import urllib\n",
    "import glob\n",
    "import pandas as pd\n",
    "from bquery import ctable\n",
    "import bquery\n",
    "import bcolz\n",
    "from multiprocessing import Pool, cpu_count\n",
    "from collections import OrderedDict\n",
    "import contextlib\n",
    "import time\n",
    "import load\n",
    "from pathlib import Path\n",
    "# do not forget to install numexpr\n",
    "# os.environ[\"BLOSC_NOLOCK\"] = \"1\"\n",
    "bcolz.set_nthreads(1)\n",
    "workdir = os.path.join(Path.home(), \"Documents/taxi\")"
   ]
  },
  {
   "cell_type": "code",
   "execution_count": null,
   "metadata": {},
   "outputs": [
    {
     "name": "stdout",
     "output_type": "stream",
     "text": [
      "https://s3.amazonaws.com/nyc-tlc/trip+data/yellow_tripdata_2015-01.csv\n"
     ]
    }
   ],
   "source": [
    "# create dir\n",
    "if not os.path.exists(workdir):\n",
    "    os.makedirs(workdir)\n",
    "load.download_data(workdir)"
   ]
  },
  {
   "cell_type": "code",
   "execution_count": null,
   "metadata": {
    "collapsed": false,
    "jupyter": {
     "outputs_hidden": false
    }
   },
   "outputs": [],
   "source": [
    "elapsed_times = OrderedDict()\n",
    "\n",
    "@contextlib.contextmanager\n",
    "def ctime(message=None):\n",
    "    \"Counts the time spent in some context\"\n",
    "    assert message is not None\n",
    "    global elapsed_times\n",
    "    t_elapsed = 0.0\n",
    "    print('\\n')\n",
    "    t = time.time()\n",
    "    yield\n",
    "    if message:\n",
    "        print (message + \":  \") \n",
    "    t_elapsed = time.time() - t\n",
    "    print (round(t_elapsed, 4), \"sec\")\n",
    "    elapsed_times[message] = t_elapsed"
   ]
  },
  {
   "cell_type": "code",
   "execution_count": null,
   "metadata": {},
   "outputs": [],
   "source": [
    "def sub_query(input_args):\n",
    "    rootdir = input_args['rootdir']\n",
    "    group_cols = input_args['group_cols']\n",
    "    measure_cols = input_args['measure_cols']\n",
    "    ct = ctable(rootdir=rootdir, mode='a')\n",
    "    result = ct.groupby(group_cols, measure_cols)\n",
    "    result_df = result.todataframe()\n",
    "    return result_df.to_msgpack()\n",
    "\n",
    "\n",
    "def execute_query(ct_list, group_cols, measure_cols):\n",
    "    p = Pool(cpu_count())\n",
    "    query_list = [{\n",
    "            'rootdir': rootdir, \n",
    "            'group_cols': group_cols,\n",
    "            'measure_cols': measure_cols} for rootdir in ct_list]\n",
    "    result_list = p.map(sub_query, query_list)\n",
    "    p.close()\n",
    "    result_list = [pd.read_msgpack(x) for x in result_list]\n",
    "    result_df = pd.concat(result_list, ignore_index=True)\n",
    "    result_df = result_df.groupby(group_cols)[measure_cols].sum()\n",
    "    return result_df\n"
   ]
  },
  {
   "cell_type": "code",
   "execution_count": null,
   "metadata": {},
   "outputs": [],
   "source": [
    "# create workfiles if not available\n",
    "ct_list = glob.glob(workdir + 'taxi_*')\n",
    "# import bquery.benchmarks.taxi.load as taxi_load\n",
    "# taxi_load.download_data(workdir)\n",
    "# taxi_load.create_bcolz(workdir)\n",
    "# taxi_load.create_bcolz_chunks(workdir)"
   ]
  },
  {
   "cell_type": "code",
   "execution_count": null,
   "metadata": {
    "collapsed": false,
    "jupyter": {
     "outputs_hidden": false
    }
   },
   "outputs": [],
   "source": [
    "ct_list = glob.glob(workdir + 'taxi_*')"
   ]
  },
  {
   "cell_type": "code",
   "execution_count": null,
   "metadata": {
    "collapsed": false,
    "jupyter": {
     "outputs_hidden": false
    }
   },
   "outputs": [],
   "source": [
    "ct = ctable(rootdir=workdir + 'taxi', mode='a')\n",
    "measure_list = ['extra',\n",
    "                'fare_amount',\n",
    "                'improvement_surcharge',\n",
    "                'mta_tax',\n",
    "                'nr_rides',\n",
    "                'passenger_count',\n",
    "                'tip_amount',\n",
    "                'tolls_amount',\n",
    "                'total_amount',\n",
    "                'trip_distance']"
   ]
  },
  {
   "cell_type": "markdown",
   "metadata": {},
   "source": [
    "## Single Process"
   ]
  },
  {
   "cell_type": "code",
   "execution_count": null,
   "metadata": {
    "collapsed": false,
    "jupyter": {
     "outputs_hidden": false
    }
   },
   "outputs": [],
   "source": [
    "with ctime(message='CT payment_type nr_rides sum, single process'):\n",
    "    ct.groupby(['payment_type'], ['nr_rides'])\n",
    "    \n",
    "with ctime(message='CT yearmonth nr_rides sum, single process'):\n",
    "    ct.groupby(['pickup_yearmonth'], ['nr_rides'])\n",
    "\n",
    "with ctime(message='CT yearmonth + payment_type nr_rides sum, single process'):\n",
    "    ct.groupby(['pickup_yearmonth', 'payment_type'], ['nr_rides'])"
   ]
  },
  {
   "cell_type": "markdown",
   "metadata": {},
   "source": [
    "## Multi Process"
   ]
  },
  {
   "cell_type": "code",
   "execution_count": null,
   "metadata": {
    "collapsed": false,
    "jupyter": {
     "outputs_hidden": false
    }
   },
   "outputs": [],
   "source": [
    "with ctime(message='CT payment_type nr_rides sum, ' + str(cpu_count()) + ' processors'):\n",
    "    execute_query(ct_list, ['payment_type'], ['nr_rides'])\n",
    "\n",
    "with ctime(message='CT yearmonth nr_rides sum, ' + str(cpu_count()) + ' processors'):\n",
    "    execute_query(ct_list, ['pickup_yearmonth'], ['nr_rides'])\n",
    "\n",
    "with ctime(message='CT yearmonth + payment_type nr_rides sum, ' + str(cpu_count()) + ' processors'):\n",
    "    execute_query(ct_list, ['pickup_yearmonth', 'payment_type'], ['nr_rides'])"
   ]
  },
  {
   "cell_type": "markdown",
   "metadata": {},
   "source": [
    "## Single Process, All Measures"
   ]
  },
  {
   "cell_type": "code",
   "execution_count": null,
   "metadata": {
    "collapsed": false,
    "jupyter": {
     "outputs_hidden": false
    }
   },
   "outputs": [],
   "source": [
    "with ctime(message='CT payment_type all measure sum, single process'):\n",
    "    ct.groupby(['payment_type'], measure_list)\n",
    "\n",
    "with ctime(message='CT yearmonth all measure sum, single process'):\n",
    "    ct.groupby(['pickup_yearmonth'], measure_list)\n",
    "\n",
    "with ctime(message='CT yearmonth + payment_type all measure sum, single process'):\n",
    "    ct.groupby(['pickup_yearmonth', 'payment_type'], measure_list)"
   ]
  },
  {
   "cell_type": "markdown",
   "metadata": {},
   "source": [
    "## Multi Process, All Measures"
   ]
  },
  {
   "cell_type": "code",
   "execution_count": null,
   "metadata": {
    "collapsed": false,
    "jupyter": {
     "outputs_hidden": false
    }
   },
   "outputs": [],
   "source": [
    "with ctime(message='CT payment_type all measure sum, ' + str(cpu_count()) + ' processors'):\n",
    "    execute_query(ct_list, ['payment_type'], measure_list)\n",
    "\n",
    "with ctime(message='CT yearmonth  all measure sum, ' + str(cpu_count()) + ' processors'):\n",
    "    execute_query(ct_list, ['pickup_yearmonth'], measure_list)\n",
    "\n",
    "with ctime(message='CT yearmonth + payment_type  all measure sum, ' + str(cpu_count()) + ' processors'):\n",
    "    execute_query(ct_list, ['pickup_yearmonth', 'payment_type'], measure_list)"
   ]
  },
  {
   "cell_type": "code",
   "execution_count": null,
   "metadata": {
    "collapsed": true,
    "jupyter": {
     "outputs_hidden": true
    }
   },
   "outputs": [],
   "source": []
  }
 ],
 "metadata": {
  "kernelspec": {
   "display_name": "Python 2",
   "language": "python",
   "name": "python2"
  },
  "language_info": {
   "codemirror_mode": {
    "name": "ipython",
    "version": 3
   },
   "file_extension": ".py",
   "mimetype": "text/x-python",
   "name": "python",
   "nbconvert_exporter": "python",
   "pygments_lexer": "ipython3",
   "version": "3.6.9"
  }
 },
 "nbformat": 4,
 "nbformat_minor": 4
}
