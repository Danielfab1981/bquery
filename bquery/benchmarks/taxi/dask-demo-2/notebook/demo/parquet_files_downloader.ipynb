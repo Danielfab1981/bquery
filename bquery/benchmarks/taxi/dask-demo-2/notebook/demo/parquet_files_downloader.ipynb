{
 "cells": [
  {
   "cell_type": "code",
   "execution_count": 1,
   "metadata": {},
   "outputs": [
    {
     "data": {
      "text/html": [
       "<table style=\"border: 2px solid white;\">\n",
       "<tr>\n",
       "<td style=\"vertical-align: top; border: 0px solid white\">\n",
       "<h3 style=\"text-align: left;\">Client</h3>\n",
       "<ul style=\"text-align: left; list-style: none; margin: 0; padding: 0;\">\n",
       "  <li><b>Scheduler: </b>tcp://scheduler:8786</li>\n",
       "  <li><b>Dashboard: </b><a href='http://scheduler:8787/status' target='_blank'>http://scheduler:8787/status</a></li>\n",
       "</ul>\n",
       "</td>\n",
       "<td style=\"vertical-align: top; border: 0px solid white\">\n",
       "<h3 style=\"text-align: left;\">Cluster</h3>\n",
       "<ul style=\"text-align: left; list-style:none; margin: 0; padding: 0;\">\n",
       "  <li><b>Workers: </b>3</li>\n",
       "  <li><b>Cores: </b>24</li>\n",
       "  <li><b>Memory: </b>49.49 GB</li>\n",
       "</ul>\n",
       "</td>\n",
       "</tr>\n",
       "</table>"
      ],
      "text/plain": [
       "<Client: 'tcp://192.168.208.4:8786' processes=3 threads=24, memory=49.49 GB>"
      ]
     },
     "execution_count": 1,
     "metadata": {},
     "output_type": "execute_result"
    }
   ],
   "source": [
    "import socket\n",
    "import shutil\n",
    "from gcsfs import GCSFileSystem\n",
    "import os\n",
    "from dask.distributed import Client, progress\n",
    "client = Client()\n",
    "client"
   ]
  },
  {
   "cell_type": "code",
   "execution_count": 2,
   "metadata": {},
   "outputs": [],
   "source": [
    "DASK_DATA_WORKERS = [\"worker-1:3001\", \"worker-2:3002\"]"
   ]
  },
  {
   "cell_type": "code",
   "execution_count": 3,
   "metadata": {},
   "outputs": [],
   "source": [
    "#from gcsfs import GCSFileSystem\n",
    "#import os\n",
    "#gcs = GCSFileSystem(token='anon')\n",
    "#parquet_files = gcs.ls('anaconda-public-data/nyc-taxi/nyc.parquet')\n",
    "#parquet_files"
   ]
  },
  {
   "cell_type": "code",
   "execution_count": 4,
   "metadata": {},
   "outputs": [],
   "source": [
    "def download_parquet_files(local_parquet='/opt/data/nyc.parquet', clean=True):\n",
    "    \"\"\"\n",
    "    Download parquet files\n",
    "    \"\"\"\n",
    "    gcs = GCSFileSystem(token='anon')\n",
    "\n",
    "    parquet_files = gcs.ls('anaconda-public-data/nyc-taxi/nyc.parquet')\n",
    "    parquet_files\n",
    "\n",
    "    # clean directory\n",
    "    if os.path.exists(local_parquet) and clean:\n",
    "        shutil.rmtree(local_parquet)\n",
    "    # create directory\n",
    "    if not os.path.exists(local_parquet):\n",
    "        os.makedirs(local_parquet)\n",
    "    # download files\n",
    "    for f in parquet_files[:5]:\n",
    "        parquet_files = gcs.download(f, f'/{local_parquet}/{os.path.basename(f)}')"
   ]
  },
  {
   "cell_type": "code",
   "execution_count": 5,
   "metadata": {},
   "outputs": [],
   "source": [
    "def run_parquet_files_downloader(client, workers):\n",
    "    \"\"\"\n",
    "    Run parquet files downloader\n",
    "    \"\"\"\n",
    "    args = ()\n",
    "    result = client.run(download_parquet_files, *args, workers=workers)"
   ]
  },
  {
   "cell_type": "code",
   "execution_count": null,
   "metadata": {},
   "outputs": [],
   "source": [
    "run_parquet_files_downloader(client, DASK_DATA_WORKERS)"
   ]
  },
  {
   "cell_type": "code",
   "execution_count": null,
   "metadata": {},
   "outputs": [],
   "source": []
  }
 ],
 "metadata": {
  "kernelspec": {
   "display_name": "Python 3",
   "language": "python",
   "name": "python3"
  },
  "language_info": {
   "codemirror_mode": {
    "name": "ipython",
    "version": 3
   },
   "file_extension": ".py",
   "mimetype": "text/x-python",
   "name": "python",
   "nbconvert_exporter": "python",
   "pygments_lexer": "ipython3",
   "version": "3.8.3"
  }
 },
 "nbformat": 4,
 "nbformat_minor": 4
}
